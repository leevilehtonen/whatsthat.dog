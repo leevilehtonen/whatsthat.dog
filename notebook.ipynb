{
 "cells": [
  {
   "cell_type": "markdown",
   "metadata": {},
   "source": [
    "# Notebook: Image Classification - Dog Breeds\n",
    "\n",
    "\n",
    "### Description\n",
    "This notebook is part of project **whatsthat.dog** which is website for identifying dog breed in a given image of a dog. The goal of this notebook is to export a trained model in .h5 (HDF5) format and additionally files for importing the model to JavaScript. \n",
    "\n",
    "### Datasets\n",
    "The model will be trained using the following datasets:\n",
    "- [ImageNet](http://image-net.org)\n",
    "- [Stanford Dogs Dataset](http://vision.stanford.edu/aditya86/ImageNetDogs/)\n",
    "\n",
    "### Model\n",
    "The initial plan is to use __NASNet model__ (https://arxiv.org/abs/1707.07012) pretrained with __ImageNet__ data and then modify the structure to have an additional dense layer and final classification layer (with nodes as many as dog breeds). Then the final model will be trained with the __Stanford Dogs Dataset__.\n"
   ]
  },
  {
   "cell_type": "markdown",
   "metadata": {},
   "source": [
    "#### Let's start by defining all imports and global constants"
   ]
  },
  {
   "cell_type": "code",
   "execution_count": 93,
   "metadata": {},
   "outputs": [],
   "source": [
    "%matplotlib inline\n",
    "import re, time, os\n",
    "import pandas as pd\n",
    "import matplotlib\n",
    "import matplotlib.pyplot as plt\n",
    "import numpy as np\n",
    "import xml.etree.ElementTree as ET\n",
    "from tqdm import tqdm, tqdm_notebook\n",
    "from tensorflow.python.keras.preprocessing.image import load_img, img_to_array\n",
    "from tensorflow.python.keras import Sequential\n",
    "from tensorflow.python.keras.applications import NASNetMobile\n",
    "from tensorflow.python.keras.callbacks import TensorBoard, EarlyStopping, ReduceLROnPlateau\n",
    "from tensorflow.python.keras.layers import Dense, Dropout, Conv2D, MaxPool2D, BatchNormalization, GlobalAveragePooling2D\n",
    "\n",
    "\n",
    "RANDOM_STATE = 20\n",
    "NAME = f\"dogs_breeds_{int(time.time())}\"\n",
    "IMAGE_WIDTH = 224\n",
    "IMAGE_HEIGHT = 224\n",
    "IMAGE_CHANNELS = 3\n",
    "IMAGE_SIZE = (IMAGE_WIDTH, IMAGE_HEIGHT)\n",
    "INPUT_SHAPE = (*IMAGE_SIZE, IMAGE_CHANNELS)\n",
    "BATCH_SIZE = 16\n",
    "EPOCHS = 40\n",
    "\n",
    "plt.style.use('ggplot')\n",
    "np.random.seed(RANDOM_STATE)\n"
   ]
  },
  {
   "cell_type": "markdown",
   "metadata": {},
   "source": [
    "## Preprocess data\n",
    "Lets begin by processing the data. The dataset has following structure:\n",
    "- Data\n",
    "    - **Images**\n",
    "        - Breed1\n",
    "            - Image1\n",
    "            - ...\n",
    "            - ImageN\n",
    "        - ...\n",
    "        - Breed120\n",
    "            - Image1\n",
    "            - ...\n",
    "            - ImageN\n",
    "    - **Annotation**\n",
    "        - Breed1\n",
    "            - Annotation1\n",
    "            - ...\n",
    "            - AnnotationN\n",
    "        - ...\n",
    "        - Breed120\n",
    "            - Annotation1\n",
    "            - ...\n",
    "            - AnnotationN"
   ]
  },
  {
   "cell_type": "code",
   "execution_count": 10,
   "metadata": {},
   "outputs": [],
   "source": [
    "foldername_pattern = re.compile(r\"n\\d{8}-(.*)\")\n",
    "\n",
    "image_paths = []\n",
    "annotation_paths = []\n",
    "categories = []\n",
    "category_names = {}\n",
    "\n",
    "for index, folder in enumerate(os.listdir(\"data/Images\")):\n",
    "    \n",
    "    category = foldername_pattern.search(folder).groups()[0]\n",
    "    category_names[index] = category.replace(\"_\", \" \").capitalize()\n",
    "    \n",
    "    for item in os.listdir(f\"data/Images/{folder}\"):\n",
    "        \n",
    "        image_paths.append(f\"data/Images/{folder}/{item}\")\n",
    "        annotation_paths.append(f\"data/Annotation/{folder}/{item.split('.')[0]}\")\n",
    "        categories.append(index)\n",
    "                                \n",
    "df_input = pd.DataFrame({\"image_file\": image_paths, \"annotation_file\": annotation_paths, \"category\": categories})"
   ]
  },
  {
   "cell_type": "markdown",
   "metadata": {},
   "source": [
    "A dataframe is now initialized which includes relative paths to all images and their annotations as well as to the respective label. Let's take a peek"
   ]
  },
  {
   "cell_type": "code",
   "execution_count": 11,
   "metadata": {},
   "outputs": [
    {
     "data": {
      "text/html": [
       "<div>\n",
       "<style scoped>\n",
       "    .dataframe tbody tr th:only-of-type {\n",
       "        vertical-align: middle;\n",
       "    }\n",
       "\n",
       "    .dataframe tbody tr th {\n",
       "        vertical-align: top;\n",
       "    }\n",
       "\n",
       "    .dataframe thead th {\n",
       "        text-align: right;\n",
       "    }\n",
       "</style>\n",
       "<table border=\"1\" class=\"dataframe\">\n",
       "  <thead>\n",
       "    <tr style=\"text-align: right;\">\n",
       "      <th></th>\n",
       "      <th>image_file</th>\n",
       "      <th>annotation_file</th>\n",
       "      <th>category</th>\n",
       "    </tr>\n",
       "  </thead>\n",
       "  <tbody>\n",
       "    <tr>\n",
       "      <th>0</th>\n",
       "      <td>data/Images/n02085620-Chihuahua/n02085620_1007...</td>\n",
       "      <td>data/Annotation/n02085620-Chihuahua/n02085620_...</td>\n",
       "      <td>0</td>\n",
       "    </tr>\n",
       "    <tr>\n",
       "      <th>1</th>\n",
       "      <td>data/Images/n02085620-Chihuahua/n02085620_1013...</td>\n",
       "      <td>data/Annotation/n02085620-Chihuahua/n02085620_...</td>\n",
       "      <td>0</td>\n",
       "    </tr>\n",
       "    <tr>\n",
       "      <th>2</th>\n",
       "      <td>data/Images/n02085620-Chihuahua/n02085620_1062...</td>\n",
       "      <td>data/Annotation/n02085620-Chihuahua/n02085620_...</td>\n",
       "      <td>0</td>\n",
       "    </tr>\n",
       "    <tr>\n",
       "      <th>3</th>\n",
       "      <td>data/Images/n02085620-Chihuahua/n02085620_1073...</td>\n",
       "      <td>data/Annotation/n02085620-Chihuahua/n02085620_...</td>\n",
       "      <td>0</td>\n",
       "    </tr>\n",
       "    <tr>\n",
       "      <th>4</th>\n",
       "      <td>data/Images/n02085620-Chihuahua/n02085620_1097...</td>\n",
       "      <td>data/Annotation/n02085620-Chihuahua/n02085620_...</td>\n",
       "      <td>0</td>\n",
       "    </tr>\n",
       "  </tbody>\n",
       "</table>\n",
       "</div>"
      ],
      "text/plain": [
       "                                          image_file  \\\n",
       "0  data/Images/n02085620-Chihuahua/n02085620_1007...   \n",
       "1  data/Images/n02085620-Chihuahua/n02085620_1013...   \n",
       "2  data/Images/n02085620-Chihuahua/n02085620_1062...   \n",
       "3  data/Images/n02085620-Chihuahua/n02085620_1073...   \n",
       "4  data/Images/n02085620-Chihuahua/n02085620_1097...   \n",
       "\n",
       "                                     annotation_file  category  \n",
       "0  data/Annotation/n02085620-Chihuahua/n02085620_...         0  \n",
       "1  data/Annotation/n02085620-Chihuahua/n02085620_...         0  \n",
       "2  data/Annotation/n02085620-Chihuahua/n02085620_...         0  \n",
       "3  data/Annotation/n02085620-Chihuahua/n02085620_...         0  \n",
       "4  data/Annotation/n02085620-Chihuahua/n02085620_...         0  "
      ]
     },
     "execution_count": 11,
     "metadata": {},
     "output_type": "execute_result"
    }
   ],
   "source": [
    "df_input.head()"
   ]
  },
  {
   "cell_type": "code",
   "execution_count": 12,
   "metadata": {},
   "outputs": [
    {
     "data": {
      "text/html": [
       "<div>\n",
       "<style scoped>\n",
       "    .dataframe tbody tr th:only-of-type {\n",
       "        vertical-align: middle;\n",
       "    }\n",
       "\n",
       "    .dataframe tbody tr th {\n",
       "        vertical-align: top;\n",
       "    }\n",
       "\n",
       "    .dataframe thead th {\n",
       "        text-align: right;\n",
       "    }\n",
       "</style>\n",
       "<table border=\"1\" class=\"dataframe\">\n",
       "  <thead>\n",
       "    <tr style=\"text-align: right;\">\n",
       "      <th></th>\n",
       "      <th>image_file</th>\n",
       "      <th>annotation_file</th>\n",
       "      <th>category</th>\n",
       "    </tr>\n",
       "  </thead>\n",
       "  <tbody>\n",
       "    <tr>\n",
       "      <th>20575</th>\n",
       "      <td>data/Images/n02116738-African_hunting_dog/n021...</td>\n",
       "      <td>data/Annotation/n02116738-African_hunting_dog/...</td>\n",
       "      <td>119</td>\n",
       "    </tr>\n",
       "    <tr>\n",
       "      <th>20576</th>\n",
       "      <td>data/Images/n02116738-African_hunting_dog/n021...</td>\n",
       "      <td>data/Annotation/n02116738-African_hunting_dog/...</td>\n",
       "      <td>119</td>\n",
       "    </tr>\n",
       "    <tr>\n",
       "      <th>20577</th>\n",
       "      <td>data/Images/n02116738-African_hunting_dog/n021...</td>\n",
       "      <td>data/Annotation/n02116738-African_hunting_dog/...</td>\n",
       "      <td>119</td>\n",
       "    </tr>\n",
       "    <tr>\n",
       "      <th>20578</th>\n",
       "      <td>data/Images/n02116738-African_hunting_dog/n021...</td>\n",
       "      <td>data/Annotation/n02116738-African_hunting_dog/...</td>\n",
       "      <td>119</td>\n",
       "    </tr>\n",
       "    <tr>\n",
       "      <th>20579</th>\n",
       "      <td>data/Images/n02116738-African_hunting_dog/n021...</td>\n",
       "      <td>data/Annotation/n02116738-African_hunting_dog/...</td>\n",
       "      <td>119</td>\n",
       "    </tr>\n",
       "  </tbody>\n",
       "</table>\n",
       "</div>"
      ],
      "text/plain": [
       "                                              image_file  \\\n",
       "20575  data/Images/n02116738-African_hunting_dog/n021...   \n",
       "20576  data/Images/n02116738-African_hunting_dog/n021...   \n",
       "20577  data/Images/n02116738-African_hunting_dog/n021...   \n",
       "20578  data/Images/n02116738-African_hunting_dog/n021...   \n",
       "20579  data/Images/n02116738-African_hunting_dog/n021...   \n",
       "\n",
       "                                         annotation_file  category  \n",
       "20575  data/Annotation/n02116738-African_hunting_dog/...       119  \n",
       "20576  data/Annotation/n02116738-African_hunting_dog/...       119  \n",
       "20577  data/Annotation/n02116738-African_hunting_dog/...       119  \n",
       "20578  data/Annotation/n02116738-African_hunting_dog/...       119  \n",
       "20579  data/Annotation/n02116738-African_hunting_dog/...       119  "
      ]
     },
     "execution_count": 12,
     "metadata": {},
     "output_type": "execute_result"
    }
   ],
   "source": [
    "df_input.tail()"
   ]
  },
  {
   "cell_type": "code",
   "execution_count": 13,
   "metadata": {},
   "outputs": [
    {
     "data": {
      "image/png": "[encoded data removed]",
      "text/plain": [
       "<Figure size 432x288 with 1 Axes>"
      ]
     },
     "metadata": {
      "needs_background": "light"
     },
     "output_type": "display_data"
    }
   ],
   "source": [
    "df_input[\"category\"].value_counts().plot.bar();"
   ]
  },
  {
   "cell_type": "markdown",
   "metadata": {},
   "source": [
    "In this case we can notice that the data is not distributed evenly"
   ]
  },
  {
   "cell_type": "markdown",
   "metadata": {},
   "source": [
    "## Loading the data\n",
    "The next step is to actually load in the data, normalize it and split it to train, validation and test data. Loading will be done using __Keras__ helper functions which utilizes the pillow library. \n",
    "\n",
    "For the data split I have chosen to include only 10% to the test data and 20% for validation and rest 70% for training."
   ]
  },
  {
   "cell_type": "code",
   "execution_count": 79,
   "metadata": {},
   "outputs": [
    {
     "name": "stderr",
     "output_type": "stream",
     "text": [
      "100%|██████████| 20580/20580 [01:22<00:00, 248.60it/s]\n"
     ]
    }
   ],
   "source": [
    "df_input = df_input.sample(frac=1, random_state=RANDOM_STATE).reset_index(drop=True)\n",
    "\n",
    "X = []\n",
    "y = []\n",
    "\n",
    "for index, row in tqdm(df_input.iterrows(), total=len(df_input)):\n",
    "    \n",
    "    img = load_img(row[\"image_file\"])\n",
    "    annotation_tree = ET.parse(row[\"annotation_file\"])\n",
    "    bndbox = {i.tag : int(i.text) for i in annotation_tree.getroot()[5][4]}   \n",
    "    img = img.crop((bndbox[\"xmin\"],bndbox[\"ymin\"], bndbox[\"xmax\"], bndbox[\"ymax\"]))\n",
    "    img = img.resize(IMAGE_SIZE)\n",
    "    \n",
    "    X.append(img_to_array(img))\n",
    "    y.append(row[\"category\"])\n",
    "\n",
    "\n",
    "X = np.array(X)\n",
    "y = np.array(y)\n",
    "X = X / 255.0\n",
    "\n",
    "split_distribution = [int(0.7*len(X)), int(0.9*len(X))]\n",
    "X_train, X_validation, X_test = np.split(X, split_distribution)\n",
    "y_train, y_validation, y_test = np.split(y, split_distribution)"
   ]
  },
  {
   "cell_type": "markdown",
   "metadata": {},
   "source": [
    "Now the data is ready for the training and the model can be defined"
   ]
  },
  {
   "cell_type": "markdown",
   "metadata": {},
   "source": [
    "## Defining model\n",
    "As mentioned at the beginning the model will be based on the __NASnet__ architecture and more in detail to the __Mobile__ variant. This is to increase performance especially if the model is eventually deployed to browser or mobile environment. One of the reasons also for using the NASnet is that Keras library includes the model already pretrained with ImageNet dataset. Next step is to define the model and compile it."
   ]
  },
  {
   "cell_type": "code",
   "execution_count": 89,
   "metadata": {},
   "outputs": [],
   "source": [
    "base_model = NASNetMobile(weights=\"imagenet\", include_top=False, input_shape=INPUT_SHAPE)\n",
    "for layer in base_model.layers:\n",
    "    layer.trainable = False"
   ]
  },
  {
   "cell_type": "code",
   "execution_count": 91,
   "metadata": {},
   "outputs": [],
   "source": [
    "model = Sequential()\n",
    "\n",
    "model.add(base_model)\n",
    "model.add(GlobalAveragePooling2D())\n",
    "model.add(Dense(1024, activation=\"relu\"))\n",
    "model.add(Dense(len(category_names), activation=\"softmax\"))\n",
    "\n",
    "model.compile(optimizer=\"adam\", loss=\"sparse_categorical_crossentropy\", metrics=[\"accuracy\"])"
   ]
  },
  {
   "cell_type": "markdown",
   "metadata": {},
   "source": [
    "Let's take a peek for the underlying architecture"
   ]
  },
  {
   "cell_type": "code",
   "execution_count": 92,
   "metadata": {},
   "outputs": [
    {
     "name": "stdout",
     "output_type": "stream",
     "text": [
      "_________________________________________________________________\n",
      "Layer (type)                 Output Shape              Param #   \n",
      "=================================================================\n",
      "NASNet (Model)               (None, 7, 7, 1056)        4269716   \n",
      "_________________________________________________________________\n",
      "global_average_pooling2d (Gl (None, 1056)              0         \n",
      "_________________________________________________________________\n",
      "dense (Dense)                (None, 1024)              1082368   \n",
      "_________________________________________________________________\n",
      "dense_1 (Dense)              (None, 120)               123000    \n",
      "=================================================================\n",
      "Total params: 5,475,084\n",
      "Trainable params: 1,205,368\n",
      "Non-trainable params: 4,269,716\n",
      "_________________________________________________________________\n"
     ]
    }
   ],
   "source": [
    "model.summary()"
   ]
  },
  {
   "cell_type": "markdown",
   "metadata": {},
   "source": [
    "Now both the data and the model is ready, and the training can be started"
   ]
  },
  {
   "cell_type": "markdown",
   "metadata": {},
   "source": [
    "## Training the model\n",
    "To make training more smooth and allow analysis afterwards, callbacks are used, namely, Tensorboard, EarlyStopping and ReduceLROnPlateau. After defining these the training process can be started."
   ]
  },
  {
   "cell_type": "code",
   "execution_count": 94,
   "metadata": {},
   "outputs": [],
   "source": [
    "tensorboard_cb = TensorBoard(log_dir=f\"logs/{NAME}\")\n",
    "earlystop_cb = EarlyStopping(patience=5)\n",
    "reducelronplateau_cb = ReduceLROnPlateau(monitor=\"val_loss\", patience=2, verbose=1, factor=0.5, min_lr=0.0000001)"
   ]
  },
  {
   "cell_type": "code",
   "execution_count": 98,
   "metadata": {},
   "outputs": [
    {
     "name": "stdout",
     "output_type": "stream",
     "text": [
      "Train on 14405 samples, validate on 4117 samples\n",
      "Epoch 1/40\n",
      " - 109s - loss: 0.2472 - acc: 0.9168 - val_loss: 0.5683 - val_acc: 0.8419\n",
      "Epoch 2/40\n",
      " - 62s - loss: 0.2384 - acc: 0.9182 - val_loss: 0.5648 - val_acc: 0.8416\n",
      "Epoch 3/40\n",
      " - 59s - loss: 0.2364 - acc: 0.9188 - val_loss: 0.5645 - val_acc: 0.8428\n",
      "Epoch 4/40\n",
      " - 64s - loss: 0.2396 - acc: 0.9185 - val_loss: 0.5694 - val_acc: 0.8445\n",
      "Epoch 5/40\n",
      "\n",
      "Epoch 00005: ReduceLROnPlateau reducing learning rate to 3.125000148429535e-05.\n",
      " - 65s - loss: 0.2303 - acc: 0.9244 - val_loss: 0.5683 - val_acc: 0.8407\n",
      "Epoch 6/40\n",
      " - 62s - loss: 0.2228 - acc: 0.9254 - val_loss: 0.5687 - val_acc: 0.8411\n",
      "Epoch 7/40\n",
      "\n",
      "Epoch 00007: ReduceLROnPlateau reducing learning rate to 1.5625000742147677e-05.\n",
      " - 60s - loss: 0.2260 - acc: 0.9234 - val_loss: 0.5701 - val_acc: 0.8421\n",
      "Epoch 8/40\n",
      " - 60s - loss: 0.2245 - acc: 0.9250 - val_loss: 0.5709 - val_acc: 0.8416\n"
     ]
    },
    {
     "ename": "OSError",
     "evalue": "Unable to create file (unable to open file: name = 'models/dogs_breeds_1558010569.h5', errno = 2, error message = 'No such file or directory', flags = 13, o_flags = 302)",
     "output_type": "error",
     "traceback": [
      "\u001b[1;31m---------------------------------------------------------------------------\u001b[0m",
      "\u001b[1;31mOSError\u001b[0m                                   Traceback (most recent call last)",
      "\u001b[1;32m<ipython-input-98-a07c401b9cc9>\u001b[0m in \u001b[0;36m<module>\u001b[1;34m\u001b[0m\n\u001b[0;32m      8\u001b[0m     \u001b[0mverbose\u001b[0m\u001b[1;33m=\u001b[0m\u001b[1;36m2\u001b[0m\u001b[1;33m\u001b[0m\u001b[1;33m\u001b[0m\u001b[0m\n\u001b[0;32m      9\u001b[0m )\n\u001b[1;32m---> 10\u001b[1;33m \u001b[0mmodel\u001b[0m\u001b[1;33m.\u001b[0m\u001b[0msave\u001b[0m\u001b[1;33m(\u001b[0m\u001b[1;34mf\"models/{NAME}.h5\"\u001b[0m\u001b[1;33m,\u001b[0m \u001b[0moverwrite\u001b[0m\u001b[1;33m=\u001b[0m\u001b[1;32mTrue\u001b[0m\u001b[1;33m)\u001b[0m\u001b[1;33m\u001b[0m\u001b[1;33m\u001b[0m\u001b[0m\n\u001b[0m",
      "\u001b[1;32m~\\Anaconda3\\envs\\default-AI\\lib\\site-packages\\tensorflow\\python\\keras\\engine\\sequential.py\u001b[0m in \u001b[0;36msave\u001b[1;34m(self, filepath, overwrite, include_optimizer)\u001b[0m\n\u001b[0;32m    317\u001b[0m   \u001b[1;32mdef\u001b[0m \u001b[0msave\u001b[0m\u001b[1;33m(\u001b[0m\u001b[0mself\u001b[0m\u001b[1;33m,\u001b[0m \u001b[0mfilepath\u001b[0m\u001b[1;33m,\u001b[0m \u001b[0moverwrite\u001b[0m\u001b[1;33m=\u001b[0m\u001b[1;32mTrue\u001b[0m\u001b[1;33m,\u001b[0m \u001b[0minclude_optimizer\u001b[0m\u001b[1;33m=\u001b[0m\u001b[1;32mTrue\u001b[0m\u001b[1;33m)\u001b[0m\u001b[1;33m:\u001b[0m\u001b[1;33m\u001b[0m\u001b[1;33m\u001b[0m\u001b[0m\n\u001b[0;32m    318\u001b[0m     \u001b[1;32mfrom\u001b[0m \u001b[0mtensorflow\u001b[0m\u001b[1;33m.\u001b[0m\u001b[0mpython\u001b[0m\u001b[1;33m.\u001b[0m\u001b[0mkeras\u001b[0m\u001b[1;33m.\u001b[0m\u001b[0mmodels\u001b[0m \u001b[1;32mimport\u001b[0m \u001b[0msave_model\u001b[0m  \u001b[1;31m# pylint: disable=g-import-not-at-top\u001b[0m\u001b[1;33m\u001b[0m\u001b[1;33m\u001b[0m\u001b[0m\n\u001b[1;32m--> 319\u001b[1;33m     \u001b[0msave_model\u001b[0m\u001b[1;33m(\u001b[0m\u001b[0mself\u001b[0m\u001b[1;33m,\u001b[0m \u001b[0mfilepath\u001b[0m\u001b[1;33m,\u001b[0m \u001b[0moverwrite\u001b[0m\u001b[1;33m,\u001b[0m \u001b[0minclude_optimizer\u001b[0m\u001b[1;33m)\u001b[0m\u001b[1;33m\u001b[0m\u001b[1;33m\u001b[0m\u001b[0m\n\u001b[0m\u001b[0;32m    320\u001b[0m \u001b[1;33m\u001b[0m\u001b[0m\n\u001b[0;32m    321\u001b[0m   \u001b[1;32mdef\u001b[0m \u001b[0mget_config\u001b[0m\u001b[1;33m(\u001b[0m\u001b[0mself\u001b[0m\u001b[1;33m)\u001b[0m\u001b[1;33m:\u001b[0m\u001b[1;33m\u001b[0m\u001b[1;33m\u001b[0m\u001b[0m\n",
      "\u001b[1;32m~\\Anaconda3\\envs\\default-AI\\lib\\site-packages\\tensorflow\\python\\keras\\engine\\saving.py\u001b[0m in \u001b[0;36msave_model\u001b[1;34m(model, filepath, overwrite, include_optimizer)\u001b[0m\n\u001b[0;32m     91\u001b[0m         \u001b[1;32mreturn\u001b[0m\u001b[1;33m\u001b[0m\u001b[1;33m\u001b[0m\u001b[0m\n\u001b[0;32m     92\u001b[0m \u001b[1;33m\u001b[0m\u001b[0m\n\u001b[1;32m---> 93\u001b[1;33m     \u001b[0mf\u001b[0m \u001b[1;33m=\u001b[0m \u001b[0mh5py\u001b[0m\u001b[1;33m.\u001b[0m\u001b[0mFile\u001b[0m\u001b[1;33m(\u001b[0m\u001b[0mfilepath\u001b[0m\u001b[1;33m,\u001b[0m \u001b[0mmode\u001b[0m\u001b[1;33m=\u001b[0m\u001b[1;34m'w'\u001b[0m\u001b[1;33m)\u001b[0m\u001b[1;33m\u001b[0m\u001b[1;33m\u001b[0m\u001b[0m\n\u001b[0m\u001b[0;32m     94\u001b[0m     \u001b[0mopened_new_file\u001b[0m \u001b[1;33m=\u001b[0m \u001b[1;32mTrue\u001b[0m\u001b[1;33m\u001b[0m\u001b[1;33m\u001b[0m\u001b[0m\n\u001b[0;32m     95\u001b[0m   \u001b[1;32melse\u001b[0m\u001b[1;33m:\u001b[0m\u001b[1;33m\u001b[0m\u001b[1;33m\u001b[0m\u001b[0m\n",
      "\u001b[1;32m~\\Anaconda3\\envs\\default-AI\\lib\\site-packages\\h5py\\_hl\\files.py\u001b[0m in \u001b[0;36m__init__\u001b[1;34m(self, name, mode, driver, libver, userblock_size, swmr, rdcc_nslots, rdcc_nbytes, rdcc_w0, track_order, **kwds)\u001b[0m\n\u001b[0;32m    392\u001b[0m                 fid = make_fid(name, mode, userblock_size,\n\u001b[0;32m    393\u001b[0m                                \u001b[0mfapl\u001b[0m\u001b[1;33m,\u001b[0m \u001b[0mfcpl\u001b[0m\u001b[1;33m=\u001b[0m\u001b[0mmake_fcpl\u001b[0m\u001b[1;33m(\u001b[0m\u001b[0mtrack_order\u001b[0m\u001b[1;33m=\u001b[0m\u001b[0mtrack_order\u001b[0m\u001b[1;33m)\u001b[0m\u001b[1;33m,\u001b[0m\u001b[1;33m\u001b[0m\u001b[1;33m\u001b[0m\u001b[0m\n\u001b[1;32m--> 394\u001b[1;33m                                swmr=swmr)\n\u001b[0m\u001b[0;32m    395\u001b[0m \u001b[1;33m\u001b[0m\u001b[0m\n\u001b[0;32m    396\u001b[0m             \u001b[1;32mif\u001b[0m \u001b[0mswmr_support\u001b[0m\u001b[1;33m:\u001b[0m\u001b[1;33m\u001b[0m\u001b[1;33m\u001b[0m\u001b[0m\n",
      "\u001b[1;32m~\\Anaconda3\\envs\\default-AI\\lib\\site-packages\\h5py\\_hl\\files.py\u001b[0m in \u001b[0;36mmake_fid\u001b[1;34m(name, mode, userblock_size, fapl, fcpl, swmr)\u001b[0m\n\u001b[0;32m    174\u001b[0m         \u001b[0mfid\u001b[0m \u001b[1;33m=\u001b[0m \u001b[0mh5f\u001b[0m\u001b[1;33m.\u001b[0m\u001b[0mcreate\u001b[0m\u001b[1;33m(\u001b[0m\u001b[0mname\u001b[0m\u001b[1;33m,\u001b[0m \u001b[0mh5f\u001b[0m\u001b[1;33m.\u001b[0m\u001b[0mACC_EXCL\u001b[0m\u001b[1;33m,\u001b[0m \u001b[0mfapl\u001b[0m\u001b[1;33m=\u001b[0m\u001b[0mfapl\u001b[0m\u001b[1;33m,\u001b[0m \u001b[0mfcpl\u001b[0m\u001b[1;33m=\u001b[0m\u001b[0mfcpl\u001b[0m\u001b[1;33m)\u001b[0m\u001b[1;33m\u001b[0m\u001b[1;33m\u001b[0m\u001b[0m\n\u001b[0;32m    175\u001b[0m     \u001b[1;32melif\u001b[0m \u001b[0mmode\u001b[0m \u001b[1;33m==\u001b[0m \u001b[1;34m'w'\u001b[0m\u001b[1;33m:\u001b[0m\u001b[1;33m\u001b[0m\u001b[1;33m\u001b[0m\u001b[0m\n\u001b[1;32m--> 176\u001b[1;33m         \u001b[0mfid\u001b[0m \u001b[1;33m=\u001b[0m \u001b[0mh5f\u001b[0m\u001b[1;33m.\u001b[0m\u001b[0mcreate\u001b[0m\u001b[1;33m(\u001b[0m\u001b[0mname\u001b[0m\u001b[1;33m,\u001b[0m \u001b[0mh5f\u001b[0m\u001b[1;33m.\u001b[0m\u001b[0mACC_TRUNC\u001b[0m\u001b[1;33m,\u001b[0m \u001b[0mfapl\u001b[0m\u001b[1;33m=\u001b[0m\u001b[0mfapl\u001b[0m\u001b[1;33m,\u001b[0m \u001b[0mfcpl\u001b[0m\u001b[1;33m=\u001b[0m\u001b[0mfcpl\u001b[0m\u001b[1;33m)\u001b[0m\u001b[1;33m\u001b[0m\u001b[1;33m\u001b[0m\u001b[0m\n\u001b[0m\u001b[0;32m    177\u001b[0m     \u001b[1;32melif\u001b[0m \u001b[0mmode\u001b[0m \u001b[1;33m==\u001b[0m \u001b[1;34m'a'\u001b[0m\u001b[1;33m:\u001b[0m\u001b[1;33m\u001b[0m\u001b[1;33m\u001b[0m\u001b[0m\n\u001b[0;32m    178\u001b[0m         \u001b[1;31m# Open in append mode (read/write).\u001b[0m\u001b[1;33m\u001b[0m\u001b[1;33m\u001b[0m\u001b[1;33m\u001b[0m\u001b[0m\n",
      "\u001b[1;32mh5py\\_objects.pyx\u001b[0m in \u001b[0;36mh5py._objects.with_phil.wrapper\u001b[1;34m()\u001b[0m\n",
      "\u001b[1;32mh5py\\_objects.pyx\u001b[0m in \u001b[0;36mh5py._objects.with_phil.wrapper\u001b[1;34m()\u001b[0m\n",
      "\u001b[1;32mh5py\\h5f.pyx\u001b[0m in \u001b[0;36mh5py.h5f.create\u001b[1;34m()\u001b[0m\n",
      "\u001b[1;31mOSError\u001b[0m: Unable to create file (unable to open file: name = 'models/dogs_breeds_1558010569.h5', errno = 2, error message = 'No such file or directory', flags = 13, o_flags = 302)"
     ]
    }
   ],
   "source": [
    "model.fit(\n",
    "    x=X_train, \n",
    "    y=y_train, \n",
    "    validation_data=(X_validation, y_validation), \n",
    "    epochs=EPOCHS, \n",
    "    batch_size=BATCH_SIZE, \n",
    "    callbacks=[tensorboard_cb, earlystop_cb, reducelronplateau_cb],\n",
    "    verbose=2\n",
    ")\n",
    "model.save(f\"models/{NAME}.h5\", overwrite=True)"
   ]
  },
  {
   "cell_type": "markdown",
   "metadata": {},
   "source": [
    "## Scoring the model\n",
    "After training the model is evaluated with the test set"
   ]
  },
  {
   "cell_type": "code",
   "execution_count": 99,
   "metadata": {},
   "outputs": [
    {
     "name": "stdout",
     "output_type": "stream",
     "text": [
      "2058/2058 [==============================] - ETA: 9s - loss: 0.9446 - acc: 0.718 - ETA: 9s - loss: 0.7138 - acc: 0.796 - ETA: 8s - loss: 0.6766 - acc: 0.833 - ETA: 8s - loss: 0.6589 - acc: 0.828 - ETA: 8s - loss: 0.5623 - acc: 0.843 - ETA: 8s - loss: 0.5488 - acc: 0.838 - ETA: 8s - loss: 0.5297 - acc: 0.834 - ETA: 8s - loss: 0.6015 - acc: 0.820 - ETA: 8s - loss: 0.6089 - acc: 0.826 - ETA: 7s - loss: 0.6234 - acc: 0.828 - ETA: 7s - loss: 0.5954 - acc: 0.835 - ETA: 7s - loss: 0.5754 - acc: 0.838 - ETA: 7s - loss: 0.5950 - acc: 0.836 - ETA: 7s - loss: 0.5835 - acc: 0.839 - ETA: 7s - loss: 0.5854 - acc: 0.841 - ETA: 6s - loss: 0.6116 - acc: 0.839 - ETA: 6s - loss: 0.6189 - acc: 0.840 - ETA: 6s - loss: 0.6089 - acc: 0.843 - ETA: 6s - loss: 0.6081 - acc: 0.845 - ETA: 6s - loss: 0.5973 - acc: 0.843 - ETA: 6s - loss: 0.6105 - acc: 0.837 - ETA: 6s - loss: 0.6486 - acc: 0.833 - ETA: 6s - loss: 0.6391 - acc: 0.837 - ETA: 5s - loss: 0.6305 - acc: 0.838 - ETA: 5s - loss: 0.6239 - acc: 0.838 - ETA: 5s - loss: 0.6170 - acc: 0.841 - ETA: 5s - loss: 0.6391 - acc: 0.833 - ETA: 5s - loss: 0.6435 - acc: 0.834 - ETA: 5s - loss: 0.6333 - acc: 0.834 - ETA: 4s - loss: 0.6387 - acc: 0.832 - ETA: 4s - loss: 0.6453 - acc: 0.830 - ETA: 4s - loss: 0.6497 - acc: 0.832 - ETA: 4s - loss: 0.6646 - acc: 0.828 - ETA: 4s - loss: 0.6621 - acc: 0.826 - ETA: 4s - loss: 0.6624 - acc: 0.825 - ETA: 4s - loss: 0.6662 - acc: 0.824 - ETA: 3s - loss: 0.6739 - acc: 0.826 - ETA: 3s - loss: 0.6815 - acc: 0.825 - ETA: 3s - loss: 0.6705 - acc: 0.828 - ETA: 3s - loss: 0.6815 - acc: 0.828 - ETA: 3s - loss: 0.6910 - acc: 0.825 - ETA: 3s - loss: 0.6888 - acc: 0.824 - ETA: 3s - loss: 0.6819 - acc: 0.824 - ETA: 2s - loss: 0.6816 - acc: 0.825 - ETA: 2s - loss: 0.6775 - acc: 0.826 - ETA: 2s - loss: 0.6863 - acc: 0.824 - ETA: 2s - loss: 0.6888 - acc: 0.823 - ETA: 2s - loss: 0.6795 - acc: 0.826 - ETA: 2s - loss: 0.6822 - acc: 0.825 - ETA: 2s - loss: 0.6762 - acc: 0.823 - ETA: 1s - loss: 0.6794 - acc: 0.824 - ETA: 1s - loss: 0.6750 - acc: 0.825 - ETA: 1s - loss: 0.6721 - acc: 0.825 - ETA: 1s - loss: 0.6663 - acc: 0.826 - ETA: 1s - loss: 0.6617 - acc: 0.827 - ETA: 1s - loss: 0.6658 - acc: 0.828 - ETA: 1s - loss: 0.6604 - acc: 0.828 - ETA: 0s - loss: 0.6511 - acc: 0.831 - ETA: 0s - loss: 0.6476 - acc: 0.832 - ETA: 0s - loss: 0.6425 - acc: 0.833 - ETA: 0s - loss: 0.6388 - acc: 0.834 - ETA: 0s - loss: 0.6369 - acc: 0.835 - ETA: 0s - loss: 0.6428 - acc: 0.833 - ETA: 0s - loss: 0.6384 - acc: 0.834 - 9s 4ms/sample - loss: 0.6378 - acc: 0.8338\n",
      "Test loss: 0.6378188911749392\n",
      "Test accuracy: 0.83381927\n"
     ]
    }
   ],
   "source": [
    "score = model.evaluate(X_test, y_test)\n",
    "print(\"Test loss:\", score[0])\n",
    "print(\"Test accuracy:\", score[1])"
   ]
  },
  {
   "cell_type": "code",
   "execution_count": null,
   "metadata": {},
   "outputs": [],
   "source": []
  }
 ],
 "metadata": {
  "kernelspec": {
   "display_name": "Python 3",
   "language": "python",
   "name": "python3"
  },
  "language_info": {
   "codemirror_mode": {
    "name": "ipython",
    "version": 3
   },
   "file_extension": ".py",
   "mimetype": "text/x-python",
   "name": "python",
   "nbconvert_exporter": "python",
   "pygments_lexer": "ipython3",
   "version": "3.7.3"
  }
 },
 "nbformat": 4,
 "nbformat_minor": 2
}
